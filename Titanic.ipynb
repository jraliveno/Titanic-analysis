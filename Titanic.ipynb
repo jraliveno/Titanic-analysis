{
  "metadata": {
    "kernelspec": {
      "name": "python",
      "display_name": "Python (Pyodide)",
      "language": "python"
    },
    "language_info": {
      "codemirror_mode": {
        "name": "python",
        "version": 3
      },
      "file_extension": ".py",
      "mimetype": "text/x-python",
      "name": "python",
      "nbconvert_exporter": "python",
      "pygments_lexer": "ipython3",
      "version": "3.8"
    }
  },
  "nbformat_minor": 5,
  "nbformat": 4,
  "cells": [
    {
      "id": "cd595f9d-1ba2-42eb-96e3-0104a1bb5753",
      "cell_type": "markdown",
      "source": "# Titanic Data Analysis\n\nIn this analysis, we explore the Titanic dataset to answer various questions regarding the survival of passengers. By examining various features like gender, age, class, and embarkation point, we aim to uncover key patterns in the data.\n\nThe specific questions we will address are:\n\n1. What is the overall survival rate of passengers?\n2. How does survival rate vary by passenger class?\n3. What is the survival rate by gender?\n4. How does age influence the survival rate?\n5. What is the impact of embarking at different locations on survival?\n6. How does the number of family members onboard (SibSp + Parch) influence survival?\n",
      "metadata": {}
    },
    {
      "id": "44c7ee62-eaa3-4f7c-9ba2-7b9ab691a9c5",
      "cell_type": "code",
      "source": "import numpy as np\nimport pandas as pd\nimport matplotlib.pyplot as plt\nimport seaborn as sns\n\n# Load Titanic dataset\nt = pd.read_csv('titanic.csv')\n\n# Display the first few rows of the dataset\nt.head()\n",
      "metadata": {
        "trusted": true
      },
      "outputs": [],
      "execution_count": null
    },
    {
      "id": "23f9333a-0677-4cf7-8986-489af880f19a",
      "cell_type": "markdown",
      "source": "## Data Exploration and Cleaning\n\nBefore diving into the analysis, we should inspect the data to check for missing values and understand the structure of the dataset. We'll also clean the data as needed.\n",
      "metadata": {}
    },
    {
      "id": "db063302-b82f-4ce7-ac3b-fef4cc27aa34",
      "cell_type": "code",
      "source": "# Check for missing values\nt.isnull().sum()\n\n# Handle missing values for 'Age' and 'Embarked'\nt['Age'].fillna(t['Age'].mean(), inplace=True)\nt['Embarked'].fillna(t['Embarked'].mode()[0], inplace=True)\n\n# Verify if there are any missing values left\nt.isnull().sum()\n",
      "metadata": {
        "trusted": true
      },
      "outputs": [],
      "execution_count": null
    },
    {
      "id": "8752d066-0166-45e6-9e8e-884409d83e49",
      "cell_type": "markdown",
      "source": "## Question 1: What is the overall survival rate of passengers?\n\nLet's calculate the overall survival rate of passengers in the Titanic dataset.\n",
      "metadata": {}
    },
    {
      "id": "dc89e8bf-f21b-4a72-bca4-2be7f46c0aec",
      "cell_type": "code",
      "source": "# Calculate overall survival rate\nsurvival_rate = t['Survived'].mean()\nprint(f\"Overall survival rate: {survival_rate:.2f}\")\n",
      "metadata": {
        "trusted": true
      },
      "outputs": [],
      "execution_count": null
    },
    {
      "id": "bdaab3b7-d5de-451e-99ba-30de29437b1e",
      "cell_type": "markdown",
      "source": "## Question 2: How does survival rate vary by passenger class?\n\nWe will now examine how the survival rate changes by passenger class (Pclass).\n",
      "metadata": {}
    },
    {
      "id": "3935d869-4e05-4ae8-920b-25709e3be35e",
      "cell_type": "code",
      "source": "# Survival rate by passenger class\nplt.figure(figsize=(8, 6))\nsns.barplot(x='Pclass', y='Survived', data=t)\nplt.title('Survival Rate by Passenger Class')\nplt.show()\n\n",
      "metadata": {
        "trusted": true
      },
      "outputs": [],
      "execution_count": null
    },
    {
      "id": "991fa719-bbdc-49d1-9eaa-4a5a8d78ea98",
      "cell_type": "markdown",
      "source": "## Question 3: What is the survival rate by gender?\n\nWe will analyze how survival rates differ between male and female passengers.\n",
      "metadata": {}
    },
    {
      "id": "9136553f-844d-44bf-bf58-0e20b218d2d3",
      "cell_type": "code",
      "source": "# Survival rate by gender\nplt.figure(figsize=(8, 6))\nsns.barplot(x='Sex', y='Survived', data=t)\nplt.title('Survival Rate by Gender')\nplt.show()\n\n",
      "metadata": {
        "trusted": true
      },
      "outputs": [],
      "execution_count": null
    },
    {
      "id": "084ce1f6-ac84-4f45-b7ce-5825a5861447",
      "cell_type": "markdown",
      "source": "## Question 4: How does age influence the survival rate?\n\nLet's investigate the relationship between age and survival. We'll plot survival rates across different age groups.\n\n",
      "metadata": {}
    },
    {
      "id": "e5853258-d17e-488a-a381-41da8e8efc1c",
      "cell_type": "code",
      "source": "# Create age bins\nage_bins = [0, 12, 18, 30, 40, 50, 60, 100]\nage_labels = ['0-12', '13-18', '19-30', '31-40', '41-50', '51-60', '60+']\nt['AgeGroup'] = pd.cut(t['Age'], bins=age_bins, labels=age_labels)\n\n# Survival rate by age group\nplt.figure(figsize=(8, 6))\nsns.barplot(x='AgeGroup', y='Survived', data=t)\nplt.title('Survival Rate by Age Group')\nplt.show()\n",
      "metadata": {
        "trusted": true
      },
      "outputs": [],
      "execution_count": null
    },
    {
      "id": "30e1388c-f549-4916-ae6f-2137974c4ad0",
      "cell_type": "markdown",
      "source": "## Question 5: What is the impact of embarking at different locations on survival?\n\nLet's analyze the survival rate based on the embarkation location (Embarked).\n",
      "metadata": {}
    },
    {
      "id": "b13fa62c-bd97-462b-925c-52c16855d125",
      "cell_type": "code",
      "source": "# Survival rate by embarkation point\nplt.figure(figsize=(8, 6))\nsns.barplot(x='Embarked', y='Survived', data=t)\nplt.title('Survival Rate by Embarkation Location')\nplt.show()\n",
      "metadata": {
        "trusted": true
      },
      "outputs": [],
      "execution_count": null
    },
    {
      "id": "613b3449-604d-42ae-84e0-f1b33d2cb0ee",
      "cell_type": "markdown",
      "source": "## Question 6: How does the number of family members onboard (SibSp + Parch) influence survival?\n\nIn this analysis, we’ll examine the impact of the number of family members on survival.\n",
      "metadata": {}
    },
    {
      "id": "91efd08e-e41b-4d01-8f1a-17013d39967c",
      "cell_type": "code",
      "source": "# Create a new column for family size\nt['FamilySize'] = t['SibSp'] + t['Parch']\n\n# Survival rate by family size\nplt.figure(figsize=(8, 6))\nsns.barplot(x='FamilySize', y='Survived', data=t)\nplt.title('Survival Rate by Family Size')\nplt.show()\n",
      "metadata": {
        "trusted": true
      },
      "outputs": [],
      "execution_count": null
    },
    {
      "id": "8b8fd0c3-74e4-4d9b-94be-95ae20547e43",
      "cell_type": "markdown",
      "source": "# Conclusion\n\nBased on our analysis, we observed that:\n\n- **Overall Survival Rate**: Around 38% of passengers survived.\n- **Passenger Class**: First-class passengers had the highest survival rate.\n- **Gender**: Women had a significantly higher survival rate than men.\n- **Age**: Children had the highest survival rate, while adults in the 30-40 age group had the lowest.\n- **Embarkation Location**: Passengers embarking from Cherbourg had the highest survival rate.\n- **Family Size**: Passengers with a small family size (1-2 members) had a slightly higher survival rate.\n\nThese findings provide valuable insights into the factors that contributed to survival during the Titanic disaster.\n",
      "metadata": {}
    }
  ]
}
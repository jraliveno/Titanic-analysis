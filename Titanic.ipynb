{
  "metadata": {
    "kernelspec": {
      "name": "python",
      "display_name": "Python (Pyodide)",
      "language": "python"
    },
    "language_info": {
      "codemirror_mode": {
        "name": "python",
        "version": 3
      },
      "file_extension": ".py",
      "mimetype": "text/x-python",
      "name": "python",
      "nbconvert_exporter": "python",
      "pygments_lexer": "ipython3",
      "version": "3.8"
    }
  },
  "nbformat_minor": 5,
  "nbformat": 4,
  "cells": [
    {
      "id": "44c7ee62-eaa3-4f7c-9ba2-7b9ab691a9c5",
      "cell_type": "code",
      "source": "import pandas as pd\nt = pd.read_csv('titanic.csv')\n",
      "metadata": {
        "trusted": true
      },
      "outputs": [],
      "execution_count": null
    },
    {
      "id": "db063302-b82f-4ce7-ac3b-fef4cc27aa34",
      "cell_type": "code",
      "source": "t.head()\nt.describe()\nt.info()\n",
      "metadata": {
        "trusted": true
      },
      "outputs": [],
      "execution_count": null
    },
    {
      "id": "dc89e8bf-f21b-4a72-bca4-2be7f46c0aec",
      "cell_type": "code",
      "source": "t['Age'].fillna(t['Age'].mean(), inplace=True)\nt['Embarked'].fillna(t['Embarked'].mode()[0], inplace=True)\n",
      "metadata": {
        "trusted": true
      },
      "outputs": [],
      "execution_count": null
    },
    {
      "id": "3935d869-4e05-4ae8-920b-25709e3be35e",
      "cell_type": "code",
      "source": "t.groupby('Pclass')['Survived'].mean()\n",
      "metadata": {
        "trusted": true
      },
      "outputs": [],
      "execution_count": null
    },
    {
      "id": "45ddf5e8-5b7f-475e-aa1d-d709f675fac0",
      "cell_type": "code",
      "source": "t.groupby('Sex')['Survived'].mean()\n",
      "metadata": {
        "trusted": true
      },
      "outputs": [],
      "execution_count": null
    },
    {
      "id": "9136553f-844d-44bf-bf58-0e20b218d2d3",
      "cell_type": "code",
      "source": "t['AgeGroup'] = pd.cut(t['Age'], bins=[0, 12, 18, 35, 50, 100], labels=['Child', 'Teen', 'Young Adult', 'Adult', 'Senior'])\nt.groupby('AgeGroup')['Survived'].mean()\n",
      "metadata": {
        "trusted": true
      },
      "outputs": [],
      "execution_count": null
    },
    {
      "id": "6a91eb73-0728-46f9-8ca7-a1514425f5f7",
      "cell_type": "code",
      "source": "import matplotlib.pyplot as plt\nimport seaborn as sns\n\n# Survival Rate by Class\nsns.barplot(x='Pclass', y='Survived', data=t)\nplt.title('Survival Rate by Class')\nplt.show()\n\n# Survival Rate by Gender\nsns.barplot(x='Sex', y='Survived', data=t)\nplt.title('Survival Rate by Gender')\nplt.show()\n\n# Age Distribution of Survivors vs Non-Survivors\nsns.histplot(data=t, x='Age', hue='Survived', kde=True)\nplt.title('Age Distribution of Survivors vs Non-Survivors')\nplt.show()\n",
      "metadata": {
        "trusted": true
      },
      "outputs": [],
      "execution_count": null
    },
    {
      "id": "e5853258-d17e-488a-a381-41da8e8efc1c",
      "cell_type": "code",
      "source": "sns.heatmap(t.corr(), annot=True, cmap='coolwarm')\nplt.title('Correlation Heatmap')\nplt.show()\n",
      "metadata": {
        "trusted": true
      },
      "outputs": [],
      "execution_count": null
    }
  ]
}